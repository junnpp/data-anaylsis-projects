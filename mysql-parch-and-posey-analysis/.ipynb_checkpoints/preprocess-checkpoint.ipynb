{
 "cells": [
  {
   "cell_type": "markdown",
   "id": "2cff505c-0346-4813-8e11-8d2dae9b0fb7",
   "metadata": {},
   "source": [
    "# Preprocess Datasets\n",
    "\n",
    "Fill missing values with \"\\N\" for smoothly importing datasets into MySQL Workbench."
   ]
  },
  {
   "cell_type": "code",
   "execution_count": 1,
   "id": "04979439-6ee9-41c6-adea-3f69db3829dd",
   "metadata": {},
   "outputs": [],
   "source": [
    "import pandas as pd\n",
    "import os"
   ]
  },
  {
   "cell_type": "markdown",
   "id": "3327e430-a0a0-4163-9ede-aee3fb6b5f65",
   "metadata": {},
   "source": [
    "Import the raw dataset and fill all missing values with MySQL null keyword, `NULL` so that MySQL Worckbench can recognize it."
   ]
  },
  {
   "cell_type": "code",
   "execution_count": 26,
   "id": "301ea92a-aed4-4bd0-8135-e66d4a42b542",
   "metadata": {},
   "outputs": [],
   "source": [
    "pd.read_csv(os.path.join(\"data\", \"orders-raw.csv\")).fillna(\"NULL\").to_csv(\"orders.csv\", index=False)"
   ]
  }
 ],
 "metadata": {
  "kernelspec": {
   "display_name": "Python 3 (ipykernel)",
   "language": "python",
   "name": "python3"
  },
  "language_info": {
   "codemirror_mode": {
    "name": "ipython",
    "version": 3
   },
   "file_extension": ".py",
   "mimetype": "text/x-python",
   "name": "python",
   "nbconvert_exporter": "python",
   "pygments_lexer": "ipython3",
   "version": "3.9.7"
  }
 },
 "nbformat": 4,
 "nbformat_minor": 5
}
