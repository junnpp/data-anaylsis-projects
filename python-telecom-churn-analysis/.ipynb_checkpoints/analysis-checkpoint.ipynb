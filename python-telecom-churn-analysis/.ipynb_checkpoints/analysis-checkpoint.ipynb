{
 "cells": [
  {
   "cell_type": "code",
   "execution_count": 42,
   "id": "a685f6d4-8400-4153-9d5f-2123747075bb",
   "metadata": {},
   "outputs": [],
   "source": [
    "import pandas as pd\n",
    "import numpy as np\n",
    "import os\n",
    "import warnings\n",
    "\n",
    "# visualization\n",
    "import seaborn as sns\n",
    "sns.set(font_scale=1.3)\n",
    "\n",
    "import matplotlib.pyplot as plt\n",
    "\n",
    "# embeding images\n",
    "from IPython.display import Image\n",
    "from IPython.core.display import HTML \n",
    "\n",
    "warnings.filterwarnings('ignore')"
   ]
  },
  {
   "cell_type": "markdown",
   "id": "230e08b5-49a1-4c2d-93da-4cc3f1cb04da",
   "metadata": {},
   "source": [
    "# Telecom Customers Analysis"
   ]
  },
  {
   "cell_type": "markdown",
   "id": "3d84e03a-b5c9-4548-b33a-7dc6ee96f359",
   "metadata": {
    "tags": []
   },
   "source": [
    "## Motivation\n",
    "\n",
    "\n",
    "According to [Harvard Business Review](https://hbr.org/2014/10/the-value-of-keeping-the-right-customers), retaining an existing customer is about 25 times cheaper than acquiring a new one. [Research done by Frederick Reichheld of Brain & Company](https://media.bain.com/Images/BB_Prescription_cutting_costs.pdf) also indicates that an increase in retention rates by 5% increases profits from 25% to 95% depending on the type of the business. Therefore, for business owners, especially those who have a website for their company, tracking customer retention rates/churn rates is essential to minimize customer loss and maximize customer gain by properly promoting marketing campaign, advertisements, etc.\n",
    "\n",
    "The dataset contains information from a telecom company from June to September with columns such as phone number, recharge amount, call duration, etc. In this project, we are going to see customers' churn rate and retention rate for each cohort."
   ]
  },
  {
   "cell_type": "markdown",
   "id": "8cbda770-8255-46d0-9d9f-2fc486378649",
   "metadata": {},
   "source": [
    "## Project Goals\n",
    "\n",
    "- Get business insights from churn rate analysis "
   ]
  },
  {
   "cell_type": "markdown",
   "id": "fa6a9230-b3ff-41d7-a31d-4bc4804d0c10",
   "metadata": {},
   "source": [
    "## Summary\n",
    "\n",
    "### Churn Anaylsis\n",
    "\n",
    "1. The current churn rate is about 8%.\n",
    "2. Churned users have dramatically less usage of both voice call and 2G/3G data.\n",
    "3. Most churned users might be leaving because of poor 2G/3G service.\n",
    "4. Once we acquire new customers, they are likely to stay with our service if the internet service works properly in that region.\n",
    "\n",
    "### Cohort Analysis\n",
    "\n",
    "1. The overall retention rates for voice call service is high (~85-95%).\n",
    "2. Compared to voice call service, retention rates for the data is much lower (~50-80%)."
   ]
  },
  {
   "cell_type": "markdown",
   "id": "b220955e-e6d3-4571-9ec7-99524f9c9b59",
   "metadata": {},
   "source": [
    "## Churn Analysis"
   ]
  },
  {
   "cell_type": "code",
   "execution_count": 2,
   "id": "0383eaf6-5ec1-4b0c-b27a-c8f7745c690b",
   "metadata": {},
   "outputs": [],
   "source": [
    "# read the raw dataset\n",
    "path = os.path.join(\".\", \"data\", \"telecom_churn_data.csv\")\n",
    "telecom = pd.read_csv(path)"
   ]
  },
  {
   "cell_type": "code",
   "execution_count": 3,
   "id": "6c541fba-d6c0-418c-ad43-b343ac390fff",
   "metadata": {},
   "outputs": [
    {
     "data": {
      "text/plain": [
       "(99999, 226)"
      ]
     },
     "execution_count": 3,
     "metadata": {},
     "output_type": "execute_result"
    }
   ],
   "source": [
    "telecom.shape"
   ]
  },
  {
   "cell_type": "code",
   "execution_count": 4,
   "id": "8251b942-fbf2-4ab3-86bc-42f716076c65",
   "metadata": {},
   "outputs": [
    {
     "data": {
      "text/html": [
       "<div>\n",
       "<style scoped>\n",
       "    .dataframe tbody tr th:only-of-type {\n",
       "        vertical-align: middle;\n",
       "    }\n",
       "\n",
       "    .dataframe tbody tr th {\n",
       "        vertical-align: top;\n",
       "    }\n",
       "\n",
       "    .dataframe thead th {\n",
       "        text-align: right;\n",
       "    }\n",
       "</style>\n",
       "<table border=\"1\" class=\"dataframe\">\n",
       "  <thead>\n",
       "    <tr style=\"text-align: right;\">\n",
       "      <th></th>\n",
       "      <th>mobile_number</th>\n",
       "      <th>circle_id</th>\n",
       "      <th>loc_og_t2o_mou</th>\n",
       "      <th>std_og_t2o_mou</th>\n",
       "      <th>loc_ic_t2o_mou</th>\n",
       "      <th>last_date_of_month_6</th>\n",
       "      <th>last_date_of_month_7</th>\n",
       "      <th>last_date_of_month_8</th>\n",
       "      <th>last_date_of_month_9</th>\n",
       "      <th>arpu_6</th>\n",
       "      <th>...</th>\n",
       "      <th>sachet_3g_9</th>\n",
       "      <th>fb_user_6</th>\n",
       "      <th>fb_user_7</th>\n",
       "      <th>fb_user_8</th>\n",
       "      <th>fb_user_9</th>\n",
       "      <th>aon</th>\n",
       "      <th>aug_vbc_3g</th>\n",
       "      <th>jul_vbc_3g</th>\n",
       "      <th>jun_vbc_3g</th>\n",
       "      <th>sep_vbc_3g</th>\n",
       "    </tr>\n",
       "  </thead>\n",
       "  <tbody>\n",
       "    <tr>\n",
       "      <th>0</th>\n",
       "      <td>7000842753</td>\n",
       "      <td>109</td>\n",
       "      <td>0.0</td>\n",
       "      <td>0.0</td>\n",
       "      <td>0.0</td>\n",
       "      <td>6/30/2014</td>\n",
       "      <td>7/31/2014</td>\n",
       "      <td>8/31/2014</td>\n",
       "      <td>9/30/2014</td>\n",
       "      <td>197.385</td>\n",
       "      <td>...</td>\n",
       "      <td>0</td>\n",
       "      <td>1.0</td>\n",
       "      <td>1.0</td>\n",
       "      <td>1.0</td>\n",
       "      <td>NaN</td>\n",
       "      <td>968</td>\n",
       "      <td>30.4</td>\n",
       "      <td>0.0</td>\n",
       "      <td>101.20</td>\n",
       "      <td>3.58</td>\n",
       "    </tr>\n",
       "    <tr>\n",
       "      <th>1</th>\n",
       "      <td>7001865778</td>\n",
       "      <td>109</td>\n",
       "      <td>0.0</td>\n",
       "      <td>0.0</td>\n",
       "      <td>0.0</td>\n",
       "      <td>6/30/2014</td>\n",
       "      <td>7/31/2014</td>\n",
       "      <td>8/31/2014</td>\n",
       "      <td>9/30/2014</td>\n",
       "      <td>34.047</td>\n",
       "      <td>...</td>\n",
       "      <td>0</td>\n",
       "      <td>NaN</td>\n",
       "      <td>1.0</td>\n",
       "      <td>1.0</td>\n",
       "      <td>NaN</td>\n",
       "      <td>1006</td>\n",
       "      <td>0.0</td>\n",
       "      <td>0.0</td>\n",
       "      <td>0.00</td>\n",
       "      <td>0.00</td>\n",
       "    </tr>\n",
       "    <tr>\n",
       "      <th>2</th>\n",
       "      <td>7001625959</td>\n",
       "      <td>109</td>\n",
       "      <td>0.0</td>\n",
       "      <td>0.0</td>\n",
       "      <td>0.0</td>\n",
       "      <td>6/30/2014</td>\n",
       "      <td>7/31/2014</td>\n",
       "      <td>8/31/2014</td>\n",
       "      <td>9/30/2014</td>\n",
       "      <td>167.690</td>\n",
       "      <td>...</td>\n",
       "      <td>0</td>\n",
       "      <td>NaN</td>\n",
       "      <td>NaN</td>\n",
       "      <td>NaN</td>\n",
       "      <td>1.0</td>\n",
       "      <td>1103</td>\n",
       "      <td>0.0</td>\n",
       "      <td>0.0</td>\n",
       "      <td>4.17</td>\n",
       "      <td>0.00</td>\n",
       "    </tr>\n",
       "    <tr>\n",
       "      <th>3</th>\n",
       "      <td>7001204172</td>\n",
       "      <td>109</td>\n",
       "      <td>0.0</td>\n",
       "      <td>0.0</td>\n",
       "      <td>0.0</td>\n",
       "      <td>6/30/2014</td>\n",
       "      <td>7/31/2014</td>\n",
       "      <td>8/31/2014</td>\n",
       "      <td>9/30/2014</td>\n",
       "      <td>221.338</td>\n",
       "      <td>...</td>\n",
       "      <td>0</td>\n",
       "      <td>NaN</td>\n",
       "      <td>NaN</td>\n",
       "      <td>NaN</td>\n",
       "      <td>NaN</td>\n",
       "      <td>2491</td>\n",
       "      <td>0.0</td>\n",
       "      <td>0.0</td>\n",
       "      <td>0.00</td>\n",
       "      <td>0.00</td>\n",
       "    </tr>\n",
       "    <tr>\n",
       "      <th>4</th>\n",
       "      <td>7000142493</td>\n",
       "      <td>109</td>\n",
       "      <td>0.0</td>\n",
       "      <td>0.0</td>\n",
       "      <td>0.0</td>\n",
       "      <td>6/30/2014</td>\n",
       "      <td>7/31/2014</td>\n",
       "      <td>8/31/2014</td>\n",
       "      <td>9/30/2014</td>\n",
       "      <td>261.636</td>\n",
       "      <td>...</td>\n",
       "      <td>0</td>\n",
       "      <td>0.0</td>\n",
       "      <td>NaN</td>\n",
       "      <td>NaN</td>\n",
       "      <td>NaN</td>\n",
       "      <td>1526</td>\n",
       "      <td>0.0</td>\n",
       "      <td>0.0</td>\n",
       "      <td>0.00</td>\n",
       "      <td>0.00</td>\n",
       "    </tr>\n",
       "  </tbody>\n",
       "</table>\n",
       "<p>5 rows × 226 columns</p>\n",
       "</div>"
      ],
      "text/plain": [
       "   mobile_number  circle_id  loc_og_t2o_mou  std_og_t2o_mou  loc_ic_t2o_mou  \\\n",
       "0     7000842753        109             0.0             0.0             0.0   \n",
       "1     7001865778        109             0.0             0.0             0.0   \n",
       "2     7001625959        109             0.0             0.0             0.0   \n",
       "3     7001204172        109             0.0             0.0             0.0   \n",
       "4     7000142493        109             0.0             0.0             0.0   \n",
       "\n",
       "  last_date_of_month_6 last_date_of_month_7 last_date_of_month_8  \\\n",
       "0            6/30/2014            7/31/2014            8/31/2014   \n",
       "1            6/30/2014            7/31/2014            8/31/2014   \n",
       "2            6/30/2014            7/31/2014            8/31/2014   \n",
       "3            6/30/2014            7/31/2014            8/31/2014   \n",
       "4            6/30/2014            7/31/2014            8/31/2014   \n",
       "\n",
       "  last_date_of_month_9   arpu_6  ...  sachet_3g_9  fb_user_6  fb_user_7  \\\n",
       "0            9/30/2014  197.385  ...            0        1.0        1.0   \n",
       "1            9/30/2014   34.047  ...            0        NaN        1.0   \n",
       "2            9/30/2014  167.690  ...            0        NaN        NaN   \n",
       "3            9/30/2014  221.338  ...            0        NaN        NaN   \n",
       "4            9/30/2014  261.636  ...            0        0.0        NaN   \n",
       "\n",
       "   fb_user_8  fb_user_9   aon  aug_vbc_3g  jul_vbc_3g  jun_vbc_3g  sep_vbc_3g  \n",
       "0        1.0        NaN   968        30.4         0.0      101.20        3.58  \n",
       "1        1.0        NaN  1006         0.0         0.0        0.00        0.00  \n",
       "2        NaN        1.0  1103         0.0         0.0        4.17        0.00  \n",
       "3        NaN        NaN  2491         0.0         0.0        0.00        0.00  \n",
       "4        NaN        NaN  1526         0.0         0.0        0.00        0.00  \n",
       "\n",
       "[5 rows x 226 columns]"
      ]
     },
     "execution_count": 4,
     "metadata": {},
     "output_type": "execute_result"
    }
   ],
   "source": [
    "telecom.head()"
   ]
  },
  {
   "cell_type": "code",
   "execution_count": 5,
   "id": "4d1750e1-2ef6-478a-9285-d86a3d7936d7",
   "metadata": {},
   "outputs": [
    {
     "data": {
      "image/png": "[encoded data removed]",
      "text/plain": [
       "<IPython.core.display.Image object>"
      ]
     },
     "execution_count": 5,
     "metadata": {
      "image/png": {
       "height": 500,
       "width": 600
      }
     },
     "output_type": "execute_result"
    }
   ],
   "source": [
    "# all column values\n",
    "# credit(Kaustav Banerjee): https://github.com/KBanerjee90\n",
    "img0_path = os.path.join(\".\", \"img\", \"0-columns.png\")\n",
    "Image(filename = img0_path, width=600, height=500)"
   ]
  },
  {
   "cell_type": "markdown",
   "id": "64a4a93c-60ee-4b20-bcf9-b750dec8d80c",
   "metadata": {},
   "source": [
    "For telecommunication firm, churn is defined as a customer either not making any call or not using the internet at all. In this dataset, columns `total_ic_mou_*` represents the total usage of voice calls in minutes and `vol_*` represents the total usage of mobile internet in MB. With columns related to these two features, we can tag all churned customers. Since this dataset only contains telecom company customer data from June to September, we are going to tag cusotmers as churned if they used mobile server from between June-August but not in September.\n",
    "\n",
    "Let's calculate the churn rates based on the percentage of customers not using our service **given** that they have used for certain amount in June and July. Let's leave August as an action phase where those 'royal' customers are deciding whether they should leave or not. Define royal customers who have either used voice call or the internet more than the average."
   ]
  },
  {
   "cell_type": "code",
   "execution_count": 6,
   "id": "b6f0984d-0a85-466b-97a7-e3f37ba7211d",
   "metadata": {},
   "outputs": [
    {
     "data": {
      "text/html": [
       "<div>\n",
       "<style scoped>\n",
       "    .dataframe tbody tr th:only-of-type {\n",
       "        vertical-align: middle;\n",
       "    }\n",
       "\n",
       "    .dataframe tbody tr th {\n",
       "        vertical-align: top;\n",
       "    }\n",
       "\n",
       "    .dataframe thead th {\n",
       "        text-align: right;\n",
       "    }\n",
       "</style>\n",
       "<table border=\"1\" class=\"dataframe\">\n",
       "  <thead>\n",
       "    <tr style=\"text-align: right;\">\n",
       "      <th></th>\n",
       "      <th>total_og_mou_6</th>\n",
       "      <th>total_og_mou_7</th>\n",
       "      <th>total_og_mou_8</th>\n",
       "      <th>total_og_mou_9</th>\n",
       "      <th>total_ic_mou_6</th>\n",
       "      <th>total_ic_mou_7</th>\n",
       "      <th>total_ic_mou_8</th>\n",
       "      <th>total_ic_mou_9</th>\n",
       "      <th>vol_2g_mb_6</th>\n",
       "      <th>vol_2g_mb_7</th>\n",
       "      <th>vol_2g_mb_8</th>\n",
       "      <th>vol_2g_mb_9</th>\n",
       "      <th>vol_3g_mb_6</th>\n",
       "      <th>vol_3g_mb_7</th>\n",
       "      <th>vol_3g_mb_8</th>\n",
       "      <th>vol_3g_mb_9</th>\n",
       "    </tr>\n",
       "  </thead>\n",
       "  <tbody>\n",
       "    <tr>\n",
       "      <th>0</th>\n",
       "      <td>0.00</td>\n",
       "      <td>0.00</td>\n",
       "      <td>0.00</td>\n",
       "      <td>0.00</td>\n",
       "      <td>0.00</td>\n",
       "      <td>0.00</td>\n",
       "      <td>5.44</td>\n",
       "      <td>0.00</td>\n",
       "      <td>30.13</td>\n",
       "      <td>1.32</td>\n",
       "      <td>5.75</td>\n",
       "      <td>0.0</td>\n",
       "      <td>83.57</td>\n",
       "      <td>150.76</td>\n",
       "      <td>109.61</td>\n",
       "      <td>0.00</td>\n",
       "    </tr>\n",
       "    <tr>\n",
       "      <th>1</th>\n",
       "      <td>40.31</td>\n",
       "      <td>178.53</td>\n",
       "      <td>312.44</td>\n",
       "      <td>72.11</td>\n",
       "      <td>26.83</td>\n",
       "      <td>104.23</td>\n",
       "      <td>423.28</td>\n",
       "      <td>188.04</td>\n",
       "      <td>0.00</td>\n",
       "      <td>108.07</td>\n",
       "      <td>365.47</td>\n",
       "      <td>0.0</td>\n",
       "      <td>0.00</td>\n",
       "      <td>0.00</td>\n",
       "      <td>0.00</td>\n",
       "      <td>0.00</td>\n",
       "    </tr>\n",
       "    <tr>\n",
       "      <th>2</th>\n",
       "      <td>155.33</td>\n",
       "      <td>412.94</td>\n",
       "      <td>285.46</td>\n",
       "      <td>124.94</td>\n",
       "      <td>370.04</td>\n",
       "      <td>519.53</td>\n",
       "      <td>395.03</td>\n",
       "      <td>517.74</td>\n",
       "      <td>0.00</td>\n",
       "      <td>0.00</td>\n",
       "      <td>0.00</td>\n",
       "      <td>0.0</td>\n",
       "      <td>0.00</td>\n",
       "      <td>0.00</td>\n",
       "      <td>0.00</td>\n",
       "      <td>8.42</td>\n",
       "    </tr>\n",
       "    <tr>\n",
       "      <th>3</th>\n",
       "      <td>223.23</td>\n",
       "      <td>135.31</td>\n",
       "      <td>352.21</td>\n",
       "      <td>362.54</td>\n",
       "      <td>280.08</td>\n",
       "      <td>216.61</td>\n",
       "      <td>53.13</td>\n",
       "      <td>305.38</td>\n",
       "      <td>0.00</td>\n",
       "      <td>0.00</td>\n",
       "      <td>0.00</td>\n",
       "      <td>0.0</td>\n",
       "      <td>0.00</td>\n",
       "      <td>0.00</td>\n",
       "      <td>0.00</td>\n",
       "      <td>0.00</td>\n",
       "    </tr>\n",
       "    <tr>\n",
       "      <th>4</th>\n",
       "      <td>127.28</td>\n",
       "      <td>241.33</td>\n",
       "      <td>208.16</td>\n",
       "      <td>104.59</td>\n",
       "      <td>216.44</td>\n",
       "      <td>198.29</td>\n",
       "      <td>338.81</td>\n",
       "      <td>205.31</td>\n",
       "      <td>0.00</td>\n",
       "      <td>0.00</td>\n",
       "      <td>0.00</td>\n",
       "      <td>0.0</td>\n",
       "      <td>0.00</td>\n",
       "      <td>0.00</td>\n",
       "      <td>0.00</td>\n",
       "      <td>0.00</td>\n",
       "    </tr>\n",
       "  </tbody>\n",
       "</table>\n",
       "</div>"
      ],
      "text/plain": [
       "   total_og_mou_6  total_og_mou_7  total_og_mou_8  total_og_mou_9  \\\n",
       "0            0.00            0.00            0.00            0.00   \n",
       "1           40.31          178.53          312.44           72.11   \n",
       "2          155.33          412.94          285.46          124.94   \n",
       "3          223.23          135.31          352.21          362.54   \n",
       "4          127.28          241.33          208.16          104.59   \n",
       "\n",
       "   total_ic_mou_6  total_ic_mou_7  total_ic_mou_8  total_ic_mou_9  \\\n",
       "0            0.00            0.00            5.44            0.00   \n",
       "1           26.83          104.23          423.28          188.04   \n",
       "2          370.04          519.53          395.03          517.74   \n",
       "3          280.08          216.61           53.13          305.38   \n",
       "4          216.44          198.29          338.81          205.31   \n",
       "\n",
       "   vol_2g_mb_6  vol_2g_mb_7  vol_2g_mb_8  vol_2g_mb_9  vol_3g_mb_6  \\\n",
       "0        30.13         1.32         5.75          0.0        83.57   \n",
       "1         0.00       108.07       365.47          0.0         0.00   \n",
       "2         0.00         0.00         0.00          0.0         0.00   \n",
       "3         0.00         0.00         0.00          0.0         0.00   \n",
       "4         0.00         0.00         0.00          0.0         0.00   \n",
       "\n",
       "   vol_3g_mb_7  vol_3g_mb_8  vol_3g_mb_9  \n",
       "0       150.76       109.61         0.00  \n",
       "1         0.00         0.00         0.00  \n",
       "2         0.00         0.00         8.42  \n",
       "3         0.00         0.00         0.00  \n",
       "4         0.00         0.00         0.00  "
      ]
     },
     "execution_count": 6,
     "metadata": {},
     "output_type": "execute_result"
    }
   ],
   "source": [
    "# select columns that represent the usage of our service\n",
    "cols = [col for col in telecom.columns if (\"total_ic_mou\" in col) or (\"total_og_mou\" in col) or (\"vol_2g_mb\" in col) or (\"vol_3g_mb\" in col)]\n",
    "usage_df = telecom[cols]\n",
    "usage_df.head(5)"
   ]
  },
  {
   "cell_type": "code",
   "execution_count": 7,
   "id": "c9147fce-ac68-4c2a-95d2-0ba27c9abf27",
   "metadata": {},
   "outputs": [
    {
     "data": {
      "text/plain": [
       "total_og_mou_6    0.0\n",
       "total_og_mou_7    0.0\n",
       "total_og_mou_8    0.0\n",
       "total_og_mou_9    0.0\n",
       "total_ic_mou_6    0.0\n",
       "total_ic_mou_7    0.0\n",
       "total_ic_mou_8    0.0\n",
       "total_ic_mou_9    0.0\n",
       "vol_2g_mb_6       0.0\n",
       "vol_2g_mb_7       0.0\n",
       "vol_2g_mb_8       0.0\n",
       "vol_2g_mb_9       0.0\n",
       "vol_3g_mb_6       0.0\n",
       "vol_3g_mb_7       0.0\n",
       "vol_3g_mb_8       0.0\n",
       "vol_3g_mb_9       0.0\n",
       "dtype: float64"
      ]
     },
     "execution_count": 7,
     "metadata": {},
     "output_type": "execute_result"
    }
   ],
   "source": [
    "# there is no missing value\n",
    "usage_df.isnull().mean()"
   ]
  },
  {
   "cell_type": "markdown",
   "id": "70e95d36-c208-4c27-9143-eafb11005937",
   "metadata": {},
   "source": [
    "Now, only select June/July data. Sum those values to indicate the total usage per customer in June/July."
   ]
  },
  {
   "cell_type": "code",
   "execution_count": 8,
   "id": "05d5aa18-cb5e-4a18-a359-80946305527d",
   "metadata": {},
   "outputs": [
    {
     "data": {
      "text/html": [
       "<div>\n",
       "<style scoped>\n",
       "    .dataframe tbody tr th:only-of-type {\n",
       "        vertical-align: middle;\n",
       "    }\n",
       "\n",
       "    .dataframe tbody tr th {\n",
       "        vertical-align: top;\n",
       "    }\n",
       "\n",
       "    .dataframe thead th {\n",
       "        text-align: right;\n",
       "    }\n",
       "</style>\n",
       "<table border=\"1\" class=\"dataframe\">\n",
       "  <thead>\n",
       "    <tr style=\"text-align: right;\">\n",
       "      <th></th>\n",
       "      <th>total_call_usage</th>\n",
       "      <th>total_data_usage</th>\n",
       "    </tr>\n",
       "  </thead>\n",
       "  <tbody>\n",
       "    <tr>\n",
       "      <th>0</th>\n",
       "      <td>0.00</td>\n",
       "      <td>265.78</td>\n",
       "    </tr>\n",
       "    <tr>\n",
       "      <th>1</th>\n",
       "      <td>349.90</td>\n",
       "      <td>108.07</td>\n",
       "    </tr>\n",
       "    <tr>\n",
       "      <th>2</th>\n",
       "      <td>1457.84</td>\n",
       "      <td>0.00</td>\n",
       "    </tr>\n",
       "    <tr>\n",
       "      <th>3</th>\n",
       "      <td>855.23</td>\n",
       "      <td>0.00</td>\n",
       "    </tr>\n",
       "    <tr>\n",
       "      <th>4</th>\n",
       "      <td>783.34</td>\n",
       "      <td>0.00</td>\n",
       "    </tr>\n",
       "  </tbody>\n",
       "</table>\n",
       "</div>"
      ],
      "text/plain": [
       "   total_call_usage  total_data_usage\n",
       "0              0.00            265.78\n",
       "1            349.90            108.07\n",
       "2           1457.84              0.00\n",
       "3            855.23              0.00\n",
       "4            783.34              0.00"
      ]
     },
     "execution_count": 8,
     "metadata": {},
     "output_type": "execute_result"
    }
   ],
   "source": [
    "# filter June/July data\n",
    "usage_df[\"total_call_usage\"] = usage_df[[\"total_og_mou_6\", \"total_og_mou_7\", \"total_ic_mou_6\", \"total_ic_mou_7\"]].apply(sum, axis=1)\n",
    "usage_df[\"total_data_usage\"] = usage_df[[\"vol_2g_mb_6\", \"vol_2g_mb_7\", \"vol_3g_mb_6\", \"vol_3g_mb_7\"]].apply(sum, axis=1)\n",
    "usage_df[[\"total_call_usage\", \"total_data_usage\"]].head()"
   ]
  },
  {
   "cell_type": "code",
   "execution_count": 9,
   "id": "5683790f-62dc-4230-ac1b-b24060cca815",
   "metadata": {},
   "outputs": [
    {
     "data": {
      "text/plain": [
       "total_call_usage    1018.347691\n",
       "total_data_usage     353.526959\n",
       "Name: mean, dtype: float64"
      ]
     },
     "execution_count": 9,
     "metadata": {},
     "output_type": "execute_result"
    }
   ],
   "source": [
    "usage_df[[\"total_call_usage\", \"total_data_usage\"]].describe().loc[\"mean\", :]"
   ]
  },
  {
   "cell_type": "markdown",
   "id": "829a7ad7-f62a-4e69-ac9a-6741c5caf88c",
   "metadata": {},
   "source": [
    "Approximately, 47,000 users are 'royal' customers."
   ]
  },
  {
   "cell_type": "code",
   "execution_count": 10,
   "id": "3fafdcf8-7a3b-4584-b314-7a55c64658d8",
   "metadata": {},
   "outputs": [
    {
     "data": {
      "text/html": [
       "<div>\n",
       "<style scoped>\n",
       "    .dataframe tbody tr th:only-of-type {\n",
       "        vertical-align: middle;\n",
       "    }\n",
       "\n",
       "    .dataframe tbody tr th {\n",
       "        vertical-align: top;\n",
       "    }\n",
       "\n",
       "    .dataframe thead th {\n",
       "        text-align: right;\n",
       "    }\n",
       "</style>\n",
       "<table border=\"1\" class=\"dataframe\">\n",
       "  <thead>\n",
       "    <tr style=\"text-align: right;\">\n",
       "      <th></th>\n",
       "      <th>total_og_mou_6</th>\n",
       "      <th>total_og_mou_7</th>\n",
       "      <th>total_og_mou_8</th>\n",
       "      <th>total_og_mou_9</th>\n",
       "      <th>total_ic_mou_6</th>\n",
       "      <th>total_ic_mou_7</th>\n",
       "      <th>total_ic_mou_8</th>\n",
       "      <th>total_ic_mou_9</th>\n",
       "      <th>vol_2g_mb_6</th>\n",
       "      <th>vol_2g_mb_7</th>\n",
       "      <th>vol_2g_mb_8</th>\n",
       "      <th>vol_2g_mb_9</th>\n",
       "      <th>vol_3g_mb_6</th>\n",
       "      <th>vol_3g_mb_7</th>\n",
       "      <th>vol_3g_mb_8</th>\n",
       "      <th>vol_3g_mb_9</th>\n",
       "      <th>total_call_usage</th>\n",
       "      <th>total_data_usage</th>\n",
       "    </tr>\n",
       "  </thead>\n",
       "  <tbody>\n",
       "    <tr>\n",
       "      <th>2</th>\n",
       "      <td>155.33</td>\n",
       "      <td>412.94</td>\n",
       "      <td>285.46</td>\n",
       "      <td>124.94</td>\n",
       "      <td>370.04</td>\n",
       "      <td>519.53</td>\n",
       "      <td>395.03</td>\n",
       "      <td>517.74</td>\n",
       "      <td>0.0</td>\n",
       "      <td>0.0</td>\n",
       "      <td>0.00</td>\n",
       "      <td>0.0</td>\n",
       "      <td>0.0</td>\n",
       "      <td>0.00</td>\n",
       "      <td>0.00</td>\n",
       "      <td>8.42</td>\n",
       "      <td>1457.84</td>\n",
       "      <td>0.00</td>\n",
       "    </tr>\n",
       "    <tr>\n",
       "      <th>6</th>\n",
       "      <td>333.76</td>\n",
       "      <td>94.81</td>\n",
       "      <td>168.74</td>\n",
       "      <td>65.91</td>\n",
       "      <td>2128.41</td>\n",
       "      <td>1788.06</td>\n",
       "      <td>2167.11</td>\n",
       "      <td>2572.49</td>\n",
       "      <td>0.0</td>\n",
       "      <td>0.0</td>\n",
       "      <td>0.00</td>\n",
       "      <td>0.0</td>\n",
       "      <td>0.0</td>\n",
       "      <td>0.00</td>\n",
       "      <td>0.00</td>\n",
       "      <td>0.00</td>\n",
       "      <td>4345.04</td>\n",
       "      <td>0.00</td>\n",
       "    </tr>\n",
       "    <tr>\n",
       "      <th>7</th>\n",
       "      <td>487.53</td>\n",
       "      <td>609.24</td>\n",
       "      <td>350.16</td>\n",
       "      <td>0.00</td>\n",
       "      <td>626.46</td>\n",
       "      <td>558.04</td>\n",
       "      <td>428.74</td>\n",
       "      <td>0.00</td>\n",
       "      <td>0.0</td>\n",
       "      <td>0.0</td>\n",
       "      <td>0.00</td>\n",
       "      <td>0.0</td>\n",
       "      <td>0.0</td>\n",
       "      <td>0.00</td>\n",
       "      <td>0.00</td>\n",
       "      <td>0.00</td>\n",
       "      <td>2281.27</td>\n",
       "      <td>0.00</td>\n",
       "    </tr>\n",
       "    <tr>\n",
       "      <th>8</th>\n",
       "      <td>508.36</td>\n",
       "      <td>431.66</td>\n",
       "      <td>171.56</td>\n",
       "      <td>142.18</td>\n",
       "      <td>103.86</td>\n",
       "      <td>28.49</td>\n",
       "      <td>16.54</td>\n",
       "      <td>34.91</td>\n",
       "      <td>0.0</td>\n",
       "      <td>356.0</td>\n",
       "      <td>0.03</td>\n",
       "      <td>0.0</td>\n",
       "      <td>0.0</td>\n",
       "      <td>750.95</td>\n",
       "      <td>11.94</td>\n",
       "      <td>0.00</td>\n",
       "      <td>1072.37</td>\n",
       "      <td>1106.95</td>\n",
       "    </tr>\n",
       "    <tr>\n",
       "      <th>13</th>\n",
       "      <td>907.09</td>\n",
       "      <td>192.41</td>\n",
       "      <td>1015.26</td>\n",
       "      <td>446.09</td>\n",
       "      <td>968.61</td>\n",
       "      <td>172.58</td>\n",
       "      <td>1144.53</td>\n",
       "      <td>631.86</td>\n",
       "      <td>0.0</td>\n",
       "      <td>0.0</td>\n",
       "      <td>0.02</td>\n",
       "      <td>0.0</td>\n",
       "      <td>0.0</td>\n",
       "      <td>0.00</td>\n",
       "      <td>0.00</td>\n",
       "      <td>0.00</td>\n",
       "      <td>2240.69</td>\n",
       "      <td>0.00</td>\n",
       "    </tr>\n",
       "  </tbody>\n",
       "</table>\n",
       "</div>"
      ],
      "text/plain": [
       "    total_og_mou_6  total_og_mou_7  total_og_mou_8  total_og_mou_9  \\\n",
       "2           155.33          412.94          285.46          124.94   \n",
       "6           333.76           94.81          168.74           65.91   \n",
       "7           487.53          609.24          350.16            0.00   \n",
       "8           508.36          431.66          171.56          142.18   \n",
       "13          907.09          192.41         1015.26          446.09   \n",
       "\n",
       "    total_ic_mou_6  total_ic_mou_7  total_ic_mou_8  total_ic_mou_9  \\\n",
       "2           370.04          519.53          395.03          517.74   \n",
       "6          2128.41         1788.06         2167.11         2572.49   \n",
       "7           626.46          558.04          428.74            0.00   \n",
       "8           103.86           28.49           16.54           34.91   \n",
       "13          968.61          172.58         1144.53          631.86   \n",
       "\n",
       "    vol_2g_mb_6  vol_2g_mb_7  vol_2g_mb_8  vol_2g_mb_9  vol_3g_mb_6  \\\n",
       "2           0.0          0.0         0.00          0.0          0.0   \n",
       "6           0.0          0.0         0.00          0.0          0.0   \n",
       "7           0.0          0.0         0.00          0.0          0.0   \n",
       "8           0.0        356.0         0.03          0.0          0.0   \n",
       "13          0.0          0.0         0.02          0.0          0.0   \n",
       "\n",
       "    vol_3g_mb_7  vol_3g_mb_8  vol_3g_mb_9  total_call_usage  total_data_usage  \n",
       "2          0.00         0.00         8.42           1457.84              0.00  \n",
       "6          0.00         0.00         0.00           4345.04              0.00  \n",
       "7          0.00         0.00         0.00           2281.27              0.00  \n",
       "8        750.95        11.94         0.00           1072.37           1106.95  \n",
       "13         0.00         0.00         0.00           2240.69              0.00  "
      ]
     },
     "execution_count": 10,
     "metadata": {},
     "output_type": "execute_result"
    }
   ],
   "source": [
    "# filter royal customers\n",
    "royal_df = usage_df[(usage_df[\"total_call_usage\"] >= 1018) | (usage_df[\"total_data_usage\"] >= 353)]\n",
    "royal_df.head(5)"
   ]
  },
  {
   "cell_type": "markdown",
   "id": "e415deac-ae6b-4689-8768-908c22989836",
   "metadata": {},
   "source": [
    "Calculate the churn rate of royal customers by computing the percentage of those royal customers who did not used our service in September."
   ]
  },
  {
   "cell_type": "code",
   "execution_count": 11,
   "id": "5ca77c56-0230-4617-9aa8-8e423799db1b",
   "metadata": {},
   "outputs": [],
   "source": [
    "# create a new column churn indicating whether the customer is churned or not\n",
    "# and initially set it to 0 \n",
    "royal_df['churn_sep'] = 0"
   ]
  },
  {
   "cell_type": "code",
   "execution_count": 12,
   "id": "19045434-bf8c-4f82-81ec-5413e71f45cf",
   "metadata": {},
   "outputs": [],
   "source": [
    "# tag churned customers as 1\n",
    "# and compute the percentage\n",
    "condition1 = royal_df[[\"total_og_mou_9\", \"total_ic_mou_9\", \"vol_2g_mb_9\", \"vol_3g_mb_9\"]].apply(sum, axis=1) == 0\n",
    "royal_df.loc[condition1, \"churn_sep\"] = 1"
   ]
  },
  {
   "cell_type": "code",
   "execution_count": 13,
   "id": "947c7a7b-2346-489c-a8d1-c1bb91713fb6",
   "metadata": {},
   "outputs": [
    {
     "data": {
      "text/plain": [
       "7.98"
      ]
     },
     "execution_count": 13,
     "metadata": {},
     "output_type": "execute_result"
    }
   ],
   "source": [
    "round(royal_df[\"churn_sep\"].mean() * 100, 2)"
   ]
  },
  {
   "cell_type": "markdown",
   "id": "c2f920c8-7a7d-4463-8f6a-c4269b162a08",
   "metadata": {},
   "source": [
    "The churn rate is about 8%. Now, let's see how many of them (royal customers) are churned in August."
   ]
  },
  {
   "cell_type": "code",
   "execution_count": 14,
   "id": "4e89bf50-8735-4869-a29c-2494a18cf44b",
   "metadata": {},
   "outputs": [
    {
     "data": {
      "text/plain": [
       "3.95"
      ]
     },
     "execution_count": 14,
     "metadata": {},
     "output_type": "execute_result"
    }
   ],
   "source": [
    "# tag customers who are churned in August\n",
    "royal_df['churn_aug'] = 0\n",
    "condition2 = royal_df[[\"total_og_mou_8\", \"total_ic_mou_8\", \"vol_2g_mb_8\", \"vol_3g_mb_8\"]].apply(sum, axis=1) == 0\n",
    "royal_df.loc[condition1 & condition2, \"churn_aug\"] = 1\n",
    "round(royal_df[\"churn_aug\"].mean() * 100, 2)"
   ]
  },
  {
   "cell_type": "markdown",
   "id": "4a72f7c3-def2-45a3-be43-ac58bb870e64",
   "metadata": {},
   "source": [
    "Appriximately, 4% of the royal customers are churned in August. Now a new question arises, **of those who did not use our service in August, how many of them come back in September?**"
   ]
  },
  {
   "cell_type": "code",
   "execution_count": 15,
   "id": "5f5089ab-ee93-4016-bb82-b6689ab54983",
   "metadata": {},
   "outputs": [
    {
     "data": {
      "text/plain": [
       "1.29"
      ]
     },
     "execution_count": 15,
     "metadata": {},
     "output_type": "execute_result"
    }
   ],
   "source": [
    "round((~condition1 & condition2).mean() * 100, 2)"
   ]
  },
  {
   "cell_type": "markdown",
   "id": "668c5982-e510-4c06-b45c-03294e42a43c",
   "metadata": {},
   "source": [
    "About 1.3% of the royal customers resumed using our service."
   ]
  },
  {
   "cell_type": "code",
   "execution_count": 16,
   "id": "eeb134e2-b0da-4b31-9f84-7937455eb7c1",
   "metadata": {},
   "outputs": [],
   "source": [
    "# create new columns for the visualization\n",
    "royal_df[\"total_call_6\"] = royal_df[[\"total_og_mou_6\", \"total_ic_mou_6\"]].apply(sum, axis=1)\n",
    "royal_df[\"total_call_7\"] = royal_df[[\"total_og_mou_7\", \"total_ic_mou_7\"]].apply(sum, axis=1)\n",
    "royal_df[\"total_call_8\"] = royal_df[[\"total_og_mou_8\", \"total_ic_mou_8\"]].apply(sum, axis=1)"
   ]
  },
  {
   "cell_type": "code",
   "execution_count": 17,
   "id": "7a1d493a-e63d-48b3-950e-a14d83861124",
   "metadata": {},
   "outputs": [
    {
     "data": {
      "image/png": "[encoded data removed]",
      "text/plain": [
       "<Figure size 1080x576 with 3 Axes>"
      ]
     },
     "metadata": {
      "needs_background": "light"
     },
     "output_type": "display_data"
    }
   ],
   "source": [
    "fig, axs = plt.subplots(figsize=(15,8), ncols=3, sharey=True)\n",
    "\n",
    "# plot June data (total call duration average)\n",
    "sns.barplot(\n",
    "    ax=axs[0],\n",
    "    data=royal_df,\n",
    "    x=\"churn_sep\",\n",
    "    y=\"total_call_6\",\n",
    "    hue=\"churn_sep\",\n",
    "    dodge=False\n",
    ")\n",
    "\n",
    "# set the plot title\n",
    "fig.suptitle(\"Churned Customer Behavior Before Churn\")\n",
    "\n",
    "# remove legend\n",
    "axs[0].get_legend().remove()\n",
    "\n",
    "# set labels properly\n",
    "axs[0].set(xlabel=\"Churn\", ylabel=\"Avg. Call Duration in June\")\n",
    "\n",
    "# plot July data (total call duration average)\n",
    "sns.barplot(\n",
    "    ax=axs[1],\n",
    "    data=royal_df,\n",
    "    x=\"churn_sep\",\n",
    "    y=\"total_call_7\",\n",
    "    hue=\"churn_sep\",\n",
    "    dodge=False\n",
    "),\n",
    "\n",
    "# set labels properly\n",
    "axs[1].set(xlabel=\"Churn\", ylabel=\"Avg. Call Duration in July\")\n",
    "axs[1].get_legend().remove()\n",
    "\n",
    "# plot August data (total call duration average)\n",
    "sns.barplot(\n",
    "    ax=axs[2],\n",
    "    data=royal_df,\n",
    "    x=\"churn_sep\",\n",
    "    y=\"total_call_8\",\n",
    "    hue=\"churn_sep\",\n",
    "    dodge=False\n",
    ")\n",
    "\n",
    "# set labels properly\n",
    "axs[2].set(xlabel=\"Churn\", ylabel=\"Avg. Call Duration in August\")\n",
    "axs[2].legend(title=\"Churn\")\n",
    "\n",
    "plt.show()"
   ]
  },
  {
   "cell_type": "markdown",
   "id": "82a626e4-78e8-411f-8da0-ac037c547c49",
   "metadata": {},
   "source": [
    "From the above plot, the customers who are churned have dramatically less average time using voice call."
   ]
  },
  {
   "cell_type": "code",
   "execution_count": 18,
   "id": "d591ef34-6a5e-48dc-8f9d-cb1b50d32bf1",
   "metadata": {},
   "outputs": [],
   "source": [
    "# create new columns for the visualization\n",
    "royal_df[\"total_data_6\"] = royal_df[[\"vol_2g_mb_6\", \"vol_3g_mb_6\"]].apply(sum, axis=1)\n",
    "royal_df[\"total_data_7\"] = royal_df[[\"vol_2g_mb_7\", \"vol_3g_mb_7\"]].apply(sum, axis=1)\n",
    "royal_df[\"total_data_8\"] = royal_df[[\"vol_2g_mb_8\", \"vol_3g_mb_8\"]].apply(sum, axis=1)"
   ]
  },
  {
   "cell_type": "code",
   "execution_count": 19,
   "id": "1f05c653-80d8-4b9c-92ba-fa854b3f8402",
   "metadata": {},
   "outputs": [
    {
     "data": {
      "image/png": "[encoded data removed]",
      "text/plain": [
       "<Figure size 1080x576 with 3 Axes>"
      ]
     },
     "metadata": {
      "needs_background": "light"
     },
     "output_type": "display_data"
    }
   ],
   "source": [
    "fig, axs = plt.subplots(figsize=(15,8), ncols=3, sharey=True)\n",
    "\n",
    "# plot June data (total call duration average)\n",
    "sns.barplot(\n",
    "    ax=axs[0],\n",
    "    data=royal_df,\n",
    "    x=\"churn_sep\",\n",
    "    y=\"total_data_6\",\n",
    "    hue=\"churn_sep\",\n",
    "    dodge=False\n",
    ")\n",
    "\n",
    "# set the plot title\n",
    "fig.suptitle(\"Churned Customer Behavior Before Churn\")\n",
    "\n",
    "# remove legend\n",
    "axs[0].get_legend().remove()\n",
    "\n",
    "# set labels properly\n",
    "axs[0].set(xlabel=\"Churn\", ylabel=\"Avg. Data Usage in June\")\n",
    "\n",
    "# plot July data (total call duration average)\n",
    "sns.barplot(\n",
    "    ax=axs[1],\n",
    "    data=royal_df,\n",
    "    x=\"churn_sep\",\n",
    "    y=\"total_data_7\",\n",
    "    hue=\"churn_sep\",\n",
    "    dodge=False\n",
    "),\n",
    "\n",
    "# set labels properly\n",
    "axs[1].set(xlabel=\"Churn\", ylabel=\"Avg. Data Usage in July\")\n",
    "axs[1].get_legend().remove()\n",
    "\n",
    "# plot August data (total call duration average)\n",
    "sns.barplot(\n",
    "    ax=axs[2],\n",
    "    data=royal_df,\n",
    "    x=\"churn_sep\",\n",
    "    y=\"total_data_8\",\n",
    "    hue=\"churn_sep\",\n",
    "    dodge=False\n",
    ")\n",
    "\n",
    "# set labels properly\n",
    "axs[2].set(xlabel=\"Churn\", ylabel=\"Avg. Data Usage in August\")\n",
    "axs[2].legend(title=\"Churn\")\n",
    "\n",
    "plt.show()"
   ]
  },
  {
   "cell_type": "markdown",
   "id": "018b585e-4e02-40ea-a9ad-9201a598f4ba",
   "metadata": {},
   "source": [
    "Again, churned customers are much more likely to use dramatically less amount of data in the previous month, August."
   ]
  },
  {
   "cell_type": "markdown",
   "id": "e14eab54-bd01-4e55-ac60-14d0658dadfa",
   "metadata": {},
   "source": [
    "Now, let's check monthly subscription of churned customers."
   ]
  },
  {
   "cell_type": "code",
   "execution_count": 20,
   "id": "3cde002b-974f-4d5e-9e73-a10cd2fae685",
   "metadata": {},
   "outputs": [
    {
     "data": {
      "text/html": [
       "<div>\n",
       "<style scoped>\n",
       "    .dataframe tbody tr th:only-of-type {\n",
       "        vertical-align: middle;\n",
       "    }\n",
       "\n",
       "    .dataframe tbody tr th {\n",
       "        vertical-align: top;\n",
       "    }\n",
       "\n",
       "    .dataframe thead th {\n",
       "        text-align: right;\n",
       "    }\n",
       "</style>\n",
       "<table border=\"1\" class=\"dataframe\">\n",
       "  <thead>\n",
       "    <tr style=\"text-align: right;\">\n",
       "      <th></th>\n",
       "      <th>churn</th>\n",
       "    </tr>\n",
       "  </thead>\n",
       "  <tbody>\n",
       "    <tr>\n",
       "      <th>0</th>\n",
       "      <td>1</td>\n",
       "    </tr>\n",
       "    <tr>\n",
       "      <th>1</th>\n",
       "      <td>0</td>\n",
       "    </tr>\n",
       "    <tr>\n",
       "      <th>2</th>\n",
       "      <td>0</td>\n",
       "    </tr>\n",
       "    <tr>\n",
       "      <th>3</th>\n",
       "      <td>0</td>\n",
       "    </tr>\n",
       "    <tr>\n",
       "      <th>4</th>\n",
       "      <td>0</td>\n",
       "    </tr>\n",
       "  </tbody>\n",
       "</table>\n",
       "</div>"
      ],
      "text/plain": [
       "   churn\n",
       "0      1\n",
       "1      0\n",
       "2      0\n",
       "3      0\n",
       "4      0"
      ]
     },
     "execution_count": 20,
     "metadata": {},
     "output_type": "execute_result"
    }
   ],
   "source": [
    "# initially set churn as 0\n",
    "telecom[\"churn\"] = 0\n",
    "\n",
    "# tag churned customers as 1\n",
    "# and compute the percentage\n",
    "condition = telecom[[\"total_og_mou_9\", \"total_ic_mou_9\", \"vol_2g_mb_9\", \"vol_3g_mb_9\"]].apply(sum, axis=1) == 0\n",
    "telecom.loc[condition, \"churn\"] = 1\n",
    "\n",
    "telecom[[\"churn\"]].head()"
   ]
  },
  {
   "cell_type": "markdown",
   "id": "4c3b8b95-ce53-43f7-8d41-58409349b3b2",
   "metadata": {},
   "source": [
    "The two plots below indicate certain behaviors of the churned customers:\n",
    "- Churned customers' 2G network service usage is significantly lower than those who are not churned. This points out that most churned users might be leaving because of poor 2G service. This applies to 3G service as well, but not as dramatic as 2G.\n",
    "- One interesting point is the average usage of 3G network of users who are not churned has increased since June. This points out once we get certain customers, they are likely to stay with our service if it works properly in that region.\n"
   ]
  },
  {
   "cell_type": "code",
   "execution_count": 21,
   "id": "cb5ec0cb-0d32-48cf-8990-fc4c18ce6e82",
   "metadata": {},
   "outputs": [
    {
     "data": {
      "image/png": "[encoded data removed]",
      "text/plain": [
       "<Figure size 1080x576 with 3 Axes>"
      ]
     },
     "metadata": {
      "needs_background": "light"
     },
     "output_type": "display_data"
    }
   ],
   "source": [
    "fig, axs = plt.subplots(figsize=(15,8), ncols=3, sharey=True)\n",
    "\n",
    "# plot June data (total call duration average)\n",
    "sns.barplot(\n",
    "    ax=axs[0],\n",
    "    data=telecom,\n",
    "    x=\"churn\",\n",
    "    y=\"monthly_2g_6\",\n",
    "    hue=\"churn\",\n",
    "    dodge=False\n",
    ")\n",
    "\n",
    "# set the plot title\n",
    "fig.suptitle(\"Churned Customer Behavior Before Churn\")\n",
    "\n",
    "# remove legend\n",
    "axs[0].get_legend().remove()\n",
    "\n",
    "# set labels properly\n",
    "axs[0].set(xlabel=\"Churn\", ylabel=\"Avg. 2G Usage in June\")\n",
    "\n",
    "# plot July data (total call duration average)\n",
    "sns.barplot(\n",
    "    ax=axs[1],\n",
    "    data=telecom,\n",
    "    x=\"churn\",\n",
    "    y=\"monthly_2g_7\",\n",
    "    hue=\"churn\",\n",
    "    dodge=False\n",
    "),\n",
    "\n",
    "# set labels properly\n",
    "axs[1].set(xlabel=\"Churn\", ylabel=\"Avg. 2G Usage in July\")\n",
    "axs[1].get_legend().remove()\n",
    "\n",
    "# plot August data (total call duration average)\n",
    "sns.barplot(\n",
    "    ax=axs[2],\n",
    "    data=telecom,\n",
    "    x=\"churn\",\n",
    "    y=\"monthly_2g_8\",\n",
    "    hue=\"churn\",\n",
    "    dodge=False\n",
    ")\n",
    "\n",
    "# set labels properly\n",
    "axs[2].set(xlabel=\"Churn\", ylabel=\"Avg. 2G Usage in August\")\n",
    "axs[2].legend(title=\"Churn\")\n",
    "\n",
    "plt.show()"
   ]
  },
  {
   "cell_type": "code",
   "execution_count": 22,
   "id": "84bc6fa0-7d58-4697-b2c6-0e506d2699ca",
   "metadata": {},
   "outputs": [
    {
     "data": {
      "image/png": "[encoded data removed]",
      "text/plain": [
       "<Figure size 1080x576 with 3 Axes>"
      ]
     },
     "metadata": {
      "needs_background": "light"
     },
     "output_type": "display_data"
    }
   ],
   "source": [
    "fig, axs = plt.subplots(figsize=(15,8), ncols=3, sharey=True)\n",
    "\n",
    "# plot June data (total call duration average)\n",
    "sns.barplot(\n",
    "    ax=axs[0],\n",
    "    data=telecom,\n",
    "    x=\"churn\",\n",
    "    y=\"monthly_3g_6\",\n",
    "    hue=\"churn\",\n",
    "    dodge=False\n",
    ")\n",
    "\n",
    "# set the plot title\n",
    "fig.suptitle(\"Churned Customer Behavior Before Churn\")\n",
    "\n",
    "# remove legend\n",
    "axs[0].get_legend().remove()\n",
    "\n",
    "# set labels properly\n",
    "axs[0].set(xlabel=\"Churn\", ylabel=\"Avg. 3G Usage in June\")\n",
    "\n",
    "# plot July data (total call duration average)\n",
    "sns.barplot(\n",
    "    ax=axs[1],\n",
    "    data=telecom,\n",
    "    x=\"churn\",\n",
    "    y=\"monthly_3g_7\",\n",
    "    hue=\"churn\",\n",
    "    dodge=False\n",
    "),\n",
    "\n",
    "# set labels properly\n",
    "axs[1].set(xlabel=\"Churn\", ylabel=\"Avg. 3G Usage in July\")\n",
    "axs[1].get_legend().remove()\n",
    "\n",
    "# plot August data (total call duration average)\n",
    "sns.barplot(\n",
    "    ax=axs[2],\n",
    "    data=telecom,\n",
    "    x=\"churn\",\n",
    "    y=\"monthly_3g_8\",\n",
    "    hue=\"churn\",\n",
    "    dodge=False\n",
    ")\n",
    "\n",
    "# set labels properly\n",
    "axs[2].set(xlabel=\"Churn\", ylabel=\"Avg. 3G Usage in August\")\n",
    "axs[2].legend(title=\"Churn\")\n",
    "\n",
    "plt.show()"
   ]
  },
  {
   "cell_type": "markdown",
   "id": "0ba6825a-6ab2-4878-b2fc-669a7ccbb4f4",
   "metadata": {},
   "source": [
    "### Customer Tenure Analysis"
   ]
  },
  {
   "cell_type": "code",
   "execution_count": 23,
   "id": "3012a90e-530e-4746-9b5e-12196d646118",
   "metadata": {},
   "outputs": [],
   "source": [
    "# calculate months spent with our service per customer\n",
    "months_spent = round(telecom[[\"aon\"]]/30, 1) \n",
    "\n",
    "# merge it to the royal customer dataframe\n",
    "royal_df = pd.merge(left=royal_df, right=months_spent, how=\"left\", left_index=True, right_index=True)"
   ]
  },
  {
   "cell_type": "code",
   "execution_count": 24,
   "id": "ad7111cb-6392-44ba-90b5-140e5d09bbec",
   "metadata": {},
   "outputs": [
    {
     "data": {
      "text/html": [
       "<div>\n",
       "<style scoped>\n",
       "    .dataframe tbody tr th:only-of-type {\n",
       "        vertical-align: middle;\n",
       "    }\n",
       "\n",
       "    .dataframe tbody tr th {\n",
       "        vertical-align: top;\n",
       "    }\n",
       "\n",
       "    .dataframe thead th {\n",
       "        text-align: right;\n",
       "    }\n",
       "</style>\n",
       "<table border=\"1\" class=\"dataframe\">\n",
       "  <thead>\n",
       "    <tr style=\"text-align: right;\">\n",
       "      <th></th>\n",
       "      <th>total_call_8</th>\n",
       "      <th>total_data_6</th>\n",
       "      <th>total_data_7</th>\n",
       "      <th>total_data_8</th>\n",
       "      <th>aon</th>\n",
       "    </tr>\n",
       "  </thead>\n",
       "  <tbody>\n",
       "    <tr>\n",
       "      <th>2</th>\n",
       "      <td>680.49</td>\n",
       "      <td>0.0</td>\n",
       "      <td>0.00</td>\n",
       "      <td>0.00</td>\n",
       "      <td>36.8</td>\n",
       "    </tr>\n",
       "    <tr>\n",
       "      <th>6</th>\n",
       "      <td>2335.85</td>\n",
       "      <td>0.0</td>\n",
       "      <td>0.00</td>\n",
       "      <td>0.00</td>\n",
       "      <td>55.8</td>\n",
       "    </tr>\n",
       "    <tr>\n",
       "      <th>7</th>\n",
       "      <td>778.90</td>\n",
       "      <td>0.0</td>\n",
       "      <td>0.00</td>\n",
       "      <td>0.00</td>\n",
       "      <td>26.7</td>\n",
       "    </tr>\n",
       "    <tr>\n",
       "      <th>8</th>\n",
       "      <td>188.10</td>\n",
       "      <td>0.0</td>\n",
       "      <td>1106.95</td>\n",
       "      <td>11.97</td>\n",
       "      <td>10.5</td>\n",
       "    </tr>\n",
       "    <tr>\n",
       "      <th>13</th>\n",
       "      <td>2159.79</td>\n",
       "      <td>0.0</td>\n",
       "      <td>0.00</td>\n",
       "      <td>0.02</td>\n",
       "      <td>86.9</td>\n",
       "    </tr>\n",
       "  </tbody>\n",
       "</table>\n",
       "</div>"
      ],
      "text/plain": [
       "    total_call_8  total_data_6  total_data_7  total_data_8   aon\n",
       "2         680.49           0.0          0.00          0.00  36.8\n",
       "6        2335.85           0.0          0.00          0.00  55.8\n",
       "7         778.90           0.0          0.00          0.00  26.7\n",
       "8         188.10           0.0       1106.95         11.97  10.5\n",
       "13       2159.79           0.0          0.00          0.02  86.9"
      ]
     },
     "execution_count": 24,
     "metadata": {},
     "output_type": "execute_result"
    }
   ],
   "source": [
    "royal_df.iloc[:5, -5:]"
   ]
  },
  {
   "cell_type": "code",
   "execution_count": 25,
   "id": "74237d4d-936d-421a-bc8d-bd3179d78025",
   "metadata": {},
   "outputs": [
    {
     "data": {
      "image/png": "[encoded data removed]",
      "text/plain": [
       "<Figure size 1080x576 with 1 Axes>"
      ]
     },
     "metadata": {
      "needs_background": "light"
     },
     "output_type": "display_data"
    }
   ],
   "source": [
    "# create a new figure\n",
    "fig, ax = plt.subplots(figsize=(15,8))\n",
    "\n",
    "sns.histplot(data=royal_df[\"aon\"])\n",
    "ax.set(xlabel=\"Average on Month\")\n",
    "\n",
    "plt.show()"
   ]
  },
  {
   "cell_type": "code",
   "execution_count": 26,
   "id": "b16ddfe9-f4d0-4922-b3b1-bbf6bc480b8d",
   "metadata": {},
   "outputs": [],
   "source": [
    "royal_df[\"month_group\"] = pd.cut(royal_df[\"aon\"], bins=[0,6,12,24,48,60,float(\"inf\")], labels = [\"0-6 Months\", \"6-12 Months\", \"1-2 Years\", \"2-4 Years\", \"4-5 Years\", \"> 5 Years\"])"
   ]
  },
  {
   "cell_type": "code",
   "execution_count": 27,
   "id": "edccc683-addf-46f4-8175-badcd109e583",
   "metadata": {},
   "outputs": [
    {
     "data": {
      "image/png": "[encoded data removed]",
      "text/plain": [
       "<Figure size 1080x576 with 1 Axes>"
      ]
     },
     "metadata": {
      "needs_background": "light"
     },
     "output_type": "display_data"
    }
   ],
   "source": [
    "# create a new figure\n",
    "fig, ax = plt.subplots(figsize=(15,8))\n",
    "\n",
    "sns.countplot(data=royal_df[[\"churn_sep\", \"month_group\"]], x=\"month_group\", hue=\"churn_sep\")\n",
    "\n",
    "plt.show()"
   ]
  },
  {
   "cell_type": "markdown",
   "id": "f69afebd-2ad8-4303-a28c-364f98d58e5b",
   "metadata": {
    "tags": []
   },
   "source": [
    "# Cohort Analysis\n",
    "\n",
    "Let's focus on the retention rates now. Cohorts are divided based on the first usage of our service. Conduct two different cohorts analysis:\n",
    "1. Voice call usage\n",
    "2. Data usage"
   ]
  },
  {
   "cell_type": "code",
   "execution_count": 28,
   "id": "bf9b8d6e-8aed-409a-bee2-04aa0bc5b8c2",
   "metadata": {},
   "outputs": [],
   "source": [
    "cols = ['mobile_number', 'total_ic_mou_6', 'total_ic_mou_7', 'total_ic_mou_8', 'total_ic_mou_9', 'vol_2g_mb_6', 'vol_2g_mb_7', 'vol_2g_mb_8', 'vol_2g_mb_9', 'vol_3g_mb_6', 'vol_3g_mb_7', 'vol_3g_mb_8', 'vol_3g_mb_9']\n",
    "cohorts = telecom.copy()"
   ]
  },
  {
   "cell_type": "code",
   "execution_count": 29,
   "id": "12f5de10-925a-4b20-b00d-59dfd0e966d9",
   "metadata": {},
   "outputs": [
    {
     "data": {
      "text/html": [
       "<div>\n",
       "<style scoped>\n",
       "    .dataframe tbody tr th:only-of-type {\n",
       "        vertical-align: middle;\n",
       "    }\n",
       "\n",
       "    .dataframe tbody tr th {\n",
       "        vertical-align: top;\n",
       "    }\n",
       "\n",
       "    .dataframe thead th {\n",
       "        text-align: right;\n",
       "    }\n",
       "</style>\n",
       "<table border=\"1\" class=\"dataframe\">\n",
       "  <thead>\n",
       "    <tr style=\"text-align: right;\">\n",
       "      <th></th>\n",
       "      <th>total_call_6</th>\n",
       "      <th>total_call_7</th>\n",
       "      <th>total_call_8</th>\n",
       "      <th>total_call_9</th>\n",
       "      <th>total_data_6</th>\n",
       "      <th>total_data_7</th>\n",
       "      <th>total_data_8</th>\n",
       "      <th>total_data_9</th>\n",
       "    </tr>\n",
       "  </thead>\n",
       "  <tbody>\n",
       "    <tr>\n",
       "      <th>0</th>\n",
       "      <td>0.00</td>\n",
       "      <td>0.00</td>\n",
       "      <td>5.44</td>\n",
       "      <td>0.00</td>\n",
       "      <td>113.7</td>\n",
       "      <td>152.08</td>\n",
       "      <td>115.36</td>\n",
       "      <td>0.0</td>\n",
       "    </tr>\n",
       "    <tr>\n",
       "      <th>1</th>\n",
       "      <td>67.14</td>\n",
       "      <td>282.76</td>\n",
       "      <td>735.72</td>\n",
       "      <td>260.15</td>\n",
       "      <td>0.0</td>\n",
       "      <td>108.07</td>\n",
       "      <td>365.47</td>\n",
       "      <td>0.0</td>\n",
       "    </tr>\n",
       "    <tr>\n",
       "      <th>2</th>\n",
       "      <td>525.37</td>\n",
       "      <td>932.47</td>\n",
       "      <td>680.49</td>\n",
       "      <td>642.68</td>\n",
       "      <td>0.0</td>\n",
       "      <td>0.00</td>\n",
       "      <td>0.00</td>\n",
       "      <td>0.0</td>\n",
       "    </tr>\n",
       "    <tr>\n",
       "      <th>3</th>\n",
       "      <td>503.31</td>\n",
       "      <td>351.92</td>\n",
       "      <td>405.34</td>\n",
       "      <td>667.92</td>\n",
       "      <td>0.0</td>\n",
       "      <td>0.00</td>\n",
       "      <td>0.00</td>\n",
       "      <td>0.0</td>\n",
       "    </tr>\n",
       "    <tr>\n",
       "      <th>4</th>\n",
       "      <td>343.72</td>\n",
       "      <td>439.62</td>\n",
       "      <td>546.97</td>\n",
       "      <td>309.90</td>\n",
       "      <td>0.0</td>\n",
       "      <td>0.00</td>\n",
       "      <td>0.00</td>\n",
       "      <td>0.0</td>\n",
       "    </tr>\n",
       "  </tbody>\n",
       "</table>\n",
       "</div>"
      ],
      "text/plain": [
       "   total_call_6  total_call_7  total_call_8  total_call_9  total_data_6  \\\n",
       "0          0.00          0.00          5.44          0.00         113.7   \n",
       "1         67.14        282.76        735.72        260.15           0.0   \n",
       "2        525.37        932.47        680.49        642.68           0.0   \n",
       "3        503.31        351.92        405.34        667.92           0.0   \n",
       "4        343.72        439.62        546.97        309.90           0.0   \n",
       "\n",
       "   total_data_7  total_data_8  total_data_9  \n",
       "0        152.08        115.36           0.0  \n",
       "1        108.07        365.47           0.0  \n",
       "2          0.00          0.00           0.0  \n",
       "3          0.00          0.00           0.0  \n",
       "4          0.00          0.00           0.0  "
      ]
     },
     "execution_count": 29,
     "metadata": {},
     "output_type": "execute_result"
    }
   ],
   "source": [
    "# create new columns to see the first usage month per user - voice call\n",
    "cohorts[\"total_call_6\"] = cohorts[[\"total_og_mou_6\", \"total_ic_mou_6\"]].apply(sum, axis=1)\n",
    "cohorts[\"total_call_7\"] = cohorts[[\"total_og_mou_7\", \"total_ic_mou_7\"]].apply(sum, axis=1)\n",
    "cohorts[\"total_call_8\"] = cohorts[[\"total_og_mou_8\", \"total_ic_mou_8\"]].apply(sum, axis=1)\n",
    "cohorts[\"total_call_9\"] = cohorts[[\"total_og_mou_9\", \"total_ic_mou_9\"]].apply(sum, axis=1)\n",
    "\n",
    "# create new columns to see the first usage month per user - data usage\n",
    "cohorts[\"total_data_6\"] = cohorts[[\"vol_2g_mb_6\", \"vol_3g_mb_6\"]].apply(sum, axis=1)\n",
    "cohorts[\"total_data_7\"] = cohorts[[\"vol_2g_mb_7\", \"vol_3g_mb_7\"]].apply(sum, axis=1)\n",
    "cohorts[\"total_data_8\"] = cohorts[[\"vol_2g_mb_8\", \"vol_3g_mb_8\"]].apply(sum, axis=1)\n",
    "cohorts[\"total_data_9\"] = cohorts[[\"vol_2g_mb_9\", \"vol_2g_mb_9\"]].apply(sum, axis=1)\n",
    "\n",
    "cols = [\"total_call_6\", \"total_call_7\", \"total_call_8\", \"total_call_9\", \"total_data_6\", \"total_data_7\", \"total_data_8\", \"total_data_9\"]\n",
    "\n",
    "cohorts[cols].head()"
   ]
  },
  {
   "cell_type": "markdown",
   "id": "62bb06a5-db36-4860-87b8-5c6493fd2117",
   "metadata": {},
   "source": [
    "## Voice Call Retention Rate\n"
   ]
  },
  {
   "cell_type": "markdown",
   "id": "239a0894-76eb-402f-95c1-998289c67adc",
   "metadata": {},
   "source": [
    "### Summary:\n",
    "\n",
    "    - The overall retention rate for voice call service is high (~85-95%).\n",
    "    - Compared to voice call service, retention rates for the data is much lower (~50-80%). \n",
    "   "
   ]
  },
  {
   "cell_type": "markdown",
   "id": "6cd8bf62-2049-4bd2-8154-7b64348ed3ae",
   "metadata": {},
   "source": [
    "From the previous churn analysis, we know that there is no missing value for voice call / data usage. For cohort analysis, first assign divide customers based on the month of their first usage of our service."
   ]
  },
  {
   "cell_type": "code",
   "execution_count": 30,
   "id": "f85dc4b4-48e3-4e8c-8018-c679c2177fcc",
   "metadata": {},
   "outputs": [],
   "source": [
    "voice_call = cohorts[[\"total_call_6\", \"total_call_7\", \"total_call_8\", \"total_call_9\"]]\n",
    "\n",
    "# filter out users who have not used voice call at all\n",
    "idx = voice_call[(voice_call[\"total_call_6\"] == 0) &\n",
    "                 (voice_call[\"total_call_7\"] == 0) &\n",
    "                 (voice_call[\"total_call_8\"] == 0) &          \n",
    "                 (voice_call[\"total_call_9\"] == 0)].index\n",
    "\n",
    "voice_call.drop(labels = idx, axis=0, inplace=True)"
   ]
  },
  {
   "cell_type": "code",
   "execution_count": 31,
   "id": "76003259-473b-4f71-9126-cfabc5dbddbe",
   "metadata": {},
   "outputs": [],
   "source": [
    "# reference: https://stackoverflow.com/questions/32768555/find-the-set-of-column-indices-for-non-zero-values-in-each-row-in-pandas-data-f\n",
    "\n",
    "# boolean table - true if column value is greater than 0 (for each row)\n",
    "bt = voice_call[[\"total_call_6\", \"total_call_7\", \"total_call_8\", \"total_call_9\"]].apply(lambda x: x > 0, axis=0)\n",
    "\n",
    "# specify all columns of bt\n",
    "bt_cols = bt.columns\n",
    "\n",
    "# get the first column with non-zero value per row\n",
    "first_cols_idx = bt.apply(lambda x: int(bt_cols.get_loc(bt_cols[x.values][0])), axis=1)\n",
    "voice_call[\"cohort_idx\"] = first_cols_idx"
   ]
  },
  {
   "cell_type": "code",
   "execution_count": 32,
   "id": "0f94246c-d223-41c3-aadd-b03c84dfb7a1",
   "metadata": {},
   "outputs": [],
   "source": [
    "# goal: convert voice_call dataframe into a format in which cohort analysis can be done\n",
    "\n",
    "# create a copy of voice call df\n",
    "temp = voice_call.copy()\n",
    "\n",
    "# change the names of columns for comparison\n",
    "temp.columns = [0, 1, 2, 3, 4]\n",
    "\n",
    "# fill column values with np.nan if column index is less than cohort idx per customer\n",
    "temp_bt = temp.apply(lambda x: x.index >= x[4], axis=1)\n",
    "temp = temp.reset_index(drop=True)[pd.DataFrame(temp_bt.to_list())]\n",
    "\n",
    "# add primary key value, customer\n",
    "temp[\"customer\"] = temp.index"
   ]
  },
  {
   "cell_type": "code",
   "execution_count": 33,
   "id": "e3a711ee-0624-45d0-9dfc-e38390ba970a",
   "metadata": {},
   "outputs": [],
   "source": [
    "# sort and drop all NA values\n",
    "temp1 = temp[[0,1,2,3,\"customer\"]]\n",
    "temp1 = temp1.melt(id_vars=[\"customer\"], var_name=\"month\", value_name=\"usage\").sort_values([\"customer\",\"month\"]).dropna(axis=0)\n",
    "\n",
    "# # add cohort column\n",
    "temp2 = temp[[\"customer\", 4]]\n",
    "temp2.columns = [\"customer\", \"cohort\"]\n",
    "voice_call_cohort = temp1.merge(temp2, left_on=\"customer\", right_on=\"customer\")\n",
    "\n",
    "# # add period column (months after the initial payment\n",
    "voice_call_cohort[\"period\"] = voice_call_cohort[\"month\"] - voice_call_cohort[\"cohort\"]"
   ]
  },
  {
   "cell_type": "code",
   "execution_count": 34,
   "id": "eba9c189-083b-43ca-914b-e616c6826670",
   "metadata": {},
   "outputs": [],
   "source": [
    "# create a new column 'count' for retention rate\n",
    "voice_call_cohort[\"count\"] = [1 if x else 0 for x in voice_call_cohort[\"usage\"] != 0]"
   ]
  },
  {
   "cell_type": "code",
   "execution_count": 35,
   "id": "524f48e1-3213-44e4-b326-9adfce2b8eee",
   "metadata": {},
   "outputs": [],
   "source": [
    "# create a retention table and pivot that table for heatmap visualization\n",
    "retention = voice_call_cohort[[\"cohort\", \"period\", \"count\"]].groupby([\"cohort\", \"period\"], as_index=False).sum(\"count\")\n",
    "\n",
    "# sql-window-function-like behavior: https://www.turing.com/kb/how-to-perform-sql-in-pandas-python\n",
    "retention[\"initial\"] = retention.groupby(\"cohort\")[\"count\"].transform(\"max\")\n",
    "retention[\"retention\"] = retention[\"count\"] / retention[\"initial\"]\n",
    "retention_pivoted = retention.pivot_table(index='cohort', columns=\"period\", values=\"retention\")\n",
    "\n",
    "# renation the index from numeric to month names\n",
    "retention_pivoted.index = [\"June\", \"July\", \"Aug\", \"Sept\"]"
   ]
  },
  {
   "cell_type": "code",
   "execution_count": 43,
   "id": "3f615cce-acb5-40dd-8b69-214fb413de41",
   "metadata": {},
   "outputs": [
    {
     "data": {
      "image/png": "[encoded data removed]",
      "text/plain": [
       "<Figure size 720x576 with 2 Axes>"
      ]
     },
     "metadata": {},
     "output_type": "display_data"
    }
   ],
   "source": [
    "# create a new figure\n",
    "fig, ax = plt.subplots(figsize=(10,8))\n",
    "\n",
    "# create a heatmap indicating retention rate\n",
    "sns.heatmap(data=retention_pivoted, annot=True, fmt='.0%', vmin=0.5, vmax=1, cmap='Reds')\n",
    "\n",
    "# set labels\n",
    "ax.set(title=\"Retention Rates - Voice Call\", xlabel=\"Cohort Index\", ylabel=\"Cohort\")\n",
    "\n",
    "plt.show()"
   ]
  },
  {
   "cell_type": "markdown",
   "id": "9c870e5e-2ddf-47b6-a34b-dd1db40815c4",
   "metadata": {},
   "source": [
    "Now, do the same analysis for data service."
   ]
  },
  {
   "cell_type": "code",
   "execution_count": 37,
   "id": "2d1daecf-7633-4069-9a30-0a115ce881d0",
   "metadata": {},
   "outputs": [],
   "source": [
    "data_df = cohorts[[\"total_data_6\", \"total_data_7\", \"total_data_8\", \"total_data_9\"]]\n",
    "\n",
    "# filter out users who have not used voice call at all\n",
    "idx = data_df[(data_df[\"total_data_6\"] == 0) &\n",
    "              (data_df[\"total_data_7\"] == 0) &\n",
    "              (data_df[\"total_data_8\"] == 0) &          \n",
    "              (data_df[\"total_data_9\"] == 0)].index\n",
    "\n",
    "data_df.drop(labels = idx, axis=0, inplace=True)\n",
    "\n",
    "# boolean table - true if column value is greater than 0 (for each row)\n",
    "bt = data_df.apply(lambda x: x > 0, axis=0)\n",
    "\n",
    "# specify all columns of bt\n",
    "bt_cols = bt.columns\n",
    "\n",
    "# get the first column with non-zero value per row\n",
    "first_cols_idx = bt.apply(lambda x: int(bt_cols.get_loc(bt_cols[x.values][0])), axis=1)\n",
    "data_df[\"cohort_idx\"] = first_cols_idx\n",
    "\n",
    "# goal: convert voice_call dataframe into a format in which cohort analysis can be done\n",
    "# create a copy of voice call df\n",
    "temp = data_df.copy()\n",
    "\n",
    "# change the names of columns for comparison\n",
    "temp.columns = [0, 1, 2, 3, 4]\n",
    "\n",
    "# fill column values with np.nan if column index is less than cohort idx per customer\n",
    "temp_bt = temp.apply(lambda x: x.index >= x[4], axis=1)\n",
    "temp = temp.reset_index(drop=True)[pd.DataFrame(temp_bt.to_list())]\n",
    "\n",
    "# add primary key value, customer\n",
    "temp[\"customer\"] = temp.index\n",
    "\n",
    "# sort and drop all NA values\n",
    "temp1 = temp[[0,1,2,3,\"customer\"]]\n",
    "temp1 = temp1.melt(id_vars=[\"customer\"], var_name=\"month\", value_name=\"usage\").sort_values([\"customer\",\"month\"]).dropna(axis=0)\n",
    "\n",
    "# # add cohort column\n",
    "temp2 = temp[[\"customer\", 4]]\n",
    "temp2.columns = [\"customer\", \"cohort\"]\n",
    "data_df = temp1.merge(temp2, left_on=\"customer\", right_on=\"customer\")\n",
    "\n",
    "# # add period column (months after the initial payment\n",
    "data_df[\"period\"] = data_df[\"month\"] - data_df[\"cohort\"]\n",
    "\n",
    "# create a new column 'count' for retention rate\n",
    "data_df[\"count\"] = [1 if x else 0 for x in data_df[\"usage\"] != 0]"
   ]
  },
  {
   "cell_type": "code",
   "execution_count": 38,
   "id": "2e8c4ec1-666f-42f9-bd20-cbb497f54827",
   "metadata": {},
   "outputs": [],
   "source": [
    "# create a retention table and pivot that table for heatmap visualization\n",
    "retention = data_df[[\"cohort\", \"period\", \"count\"]].groupby([\"cohort\", \"period\"], as_index=False).sum(\"count\")\n",
    "\n",
    "# sql-window-function-like behavior: https://www.turing.com/kb/how-to-perform-sql-in-pandas-python\n",
    "retention[\"initial\"] = retention.groupby(\"cohort\")[\"count\"].transform(\"max\")\n",
    "retention[\"retention\"] = retention[\"count\"] / retention[\"initial\"]\n",
    "retention_pivoted = retention.pivot_table(index='cohort', columns=\"period\", values=\"retention\")\n",
    "\n",
    "# renation the index from numeric to month names\n",
    "retention_pivoted.index = [\"June\", \"July\", \"Aug\", \"Sept\"]"
   ]
  },
  {
   "cell_type": "code",
   "execution_count": 44,
   "id": "03101f13-a445-4b8b-9d01-ca449a6e4842",
   "metadata": {},
   "outputs": [
    {
     "data": {
      "image/png": "[encoded data removed]",
      "text/plain": [
       "<Figure size 720x576 with 2 Axes>"
      ]
     },
     "metadata": {},
     "output_type": "display_data"
    }
   ],
   "source": [
    "# create a new figure\n",
    "fig, ax = plt.subplots(figsize=(10,8))\n",
    "\n",
    "# create a heatmap indicating retention rate\n",
    "sns.heatmap(data=retention_pivoted, annot=True, fmt='.0%', vmin=0.5, vmax=1, cmap='Reds')\n",
    "\n",
    "# set labels\n",
    "ax.set(title=\"Retention Rates - Internet\", xlabel=\"Cohort Index\", ylabel=\"Cohort\")\n",
    "\n",
    "plt.show()"
   ]
  },
  {
   "cell_type": "markdown",
   "id": "23058ff7-48cb-4e42-a5b5-acb67975a986",
   "metadata": {
    "tags": []
   },
   "source": [
    "## References\n",
    "\n",
    "- [The Value of Keeping the Right Customers](https://hbr.org/2014/10/the-value-of-keeping-the-right-customers)\n",
    "- [Telecom Churn Case Study](https://www.kaggle.com/code/rahulbhargava21/telecom-churn-case-study/notebook)"
   ]
  },
  {
   "cell_type": "markdown",
   "id": "c85b3702-f13c-4283-b153-0b2f8047b695",
   "metadata": {},
   "source": [
    "---"
   ]
  }
 ],
 "metadata": {
  "kernelspec": {
   "display_name": "Python 3 (ipykernel)",
   "language": "python",
   "name": "python3"
  },
  "language_info": {
   "codemirror_mode": {
    "name": "ipython",
    "version": 3
   },
   "file_extension": ".py",
   "mimetype": "text/x-python",
   "name": "python",
   "nbconvert_exporter": "python",
   "pygments_lexer": "ipython3",
   "version": "3.9.7"
  }
 },
 "nbformat": 4,
 "nbformat_minor": 5
}
